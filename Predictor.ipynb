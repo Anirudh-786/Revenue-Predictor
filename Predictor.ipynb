{
 "cells": [
  {
   "cell_type": "code",
   "execution_count": 9,
   "id": "c57f8c00-df9d-4872-be4a-1033639ad98b",
   "metadata": {},
   "outputs": [
    {
     "name": "stdout",
     "output_type": "stream",
     "text": [
      "Predicted Revenue: 6000.0\n",
      "Intercept: -1000.0000000000027\n",
      "Coefficients: [19.8019802   1.98019802]\n"
     ]
    },
    {
     "name": "stderr",
     "output_type": "stream",
     "text": [
      "D:\\Taza Khabar S2\\anaconda\\Lib\\site-packages\\sklearn\\utils\\validation.py:2739: UserWarning: X does not have valid feature names, but LinearRegression was fitted with feature names\n",
      "  warnings.warn(\n"
     ]
    }
   ],
   "source": [
    "import pandas as pd\n",
    "from sklearn.model_selection import train_test_split\n",
    "from sklearn.linear_model import LinearRegression\n",
    "\n",
    "# Example dataset\n",
    "data = pd.DataFrame({\n",
    "    \"marketing_spend\": [100, 200, 300, 400, 500],\n",
    "    \"employees\": [10, 20, 30, 40, 50],\n",
    "    \"revenue\": [1000, 3000, 5000, 7000, 9000]\n",
    "})\n",
    "\n",
    "X = data[[\"marketing_spend\", \"employees\"]]\n",
    "y = data[\"revenue\"]\n",
    "\n",
    "# Train-test split\n",
    "X_train, X_test, y_train, y_test = train_test_split(X, y, test_size=0.2, random_state=42)\n",
    "\n",
    "# Train model\n",
    "model = LinearRegression()\n",
    "model.fit(X_train, y_train)\n",
    "\n",
    "# Example prediction\n",
    "prediction = model.predict([[350, 35]])\n",
    "print(\"Predicted Revenue:\", prediction[0])\n",
    "print(\"Intercept:\", model.intercept_)\n",
    "print(\"Coefficients:\", model.coef_)\n",
    "\n"
   ]
  },
  {
   "cell_type": "code",
   "execution_count": 11,
   "id": "e9a50248-6719-4722-bfdd-625c36242e50",
   "metadata": {},
   "outputs": [
    {
     "name": "stdout",
     "output_type": "stream",
     "text": [
      "Intercept: -1000.0000000000027\n",
      "Coefficients: [19.8019802   1.98019802]\n",
      "Test Prediction: 7009.90099009901\n"
     ]
    },
    {
     "name": "stderr",
     "output_type": "stream",
     "text": [
      "D:\\Taza Khabar S2\\anaconda\\Lib\\site-packages\\sklearn\\utils\\validation.py:2739: UserWarning: X does not have valid feature names, but LinearRegression was fitted with feature names\n",
      "  warnings.warn(\n"
     ]
    }
   ],
   "source": [
    "print(\"Intercept:\", model.intercept_)\n",
    "print(\"Coefficients:\", model.coef_)\n",
    "print(\"Test Prediction:\", model.predict([[400, 45]])[0])\n"
   ]
  },
  {
   "cell_type": "code",
   "execution_count": null,
   "id": "a268c1e0-c0ed-4571-93a3-23001969a8a3",
   "metadata": {},
   "outputs": [],
   "source": []
  }
 ],
 "metadata": {
  "kernelspec": {
   "display_name": "Python 3 (ipykernel)",
   "language": "python",
   "name": "python3"
  },
  "language_info": {
   "codemirror_mode": {
    "name": "ipython",
    "version": 3
   },
   "file_extension": ".py",
   "mimetype": "text/x-python",
   "name": "python",
   "nbconvert_exporter": "python",
   "pygments_lexer": "ipython3",
   "version": "3.13.5"
  }
 },
 "nbformat": 4,
 "nbformat_minor": 5
}
